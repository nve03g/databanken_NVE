{
 "cells": [
  {
   "cell_type": "markdown",
   "metadata": {},
   "source": [
    "#### <span style=\"color:darkgrey\">Nellie Van Eeckhaute - 1 juli 2024</span>"
   ]
  },
  {
   "cell_type": "markdown",
   "metadata": {},
   "source": [
    "# Session 1: Queries\n",
    "In this session, we will learn how to look up data in the the database. We will use Python and its default sqlite library to query the database.\n",
    "## 1. SQLite\n",
    "SQLite is a simple, minimalistic **database management system** (DBMS). While most DBMSs follow a client-server architecture, sqlite's database is contained in a single `.sqlite` file that a program can manipulate directly. This makes sqlite mostly useful for smaller applications, when you don't want to spend too much time and effort into creating complicated database permission schemes. However, sqlite is less performant than more complex database like MariaDB or PostgreSQL.\n",
    "### 1.1 Sample Database\n",
    "For these exercises, we will be using a sample database, namely the **Chinook** database.\n",
    "Download the database [here](https://github.com/lerocha/chinook-database/blob/master/ChinookDatabase/DataSources/Chinook_Sqlite.sqlite?raw=true). The database contains data from an online store selling music tracks (from back before music streaming was a thing).\n",
    "\n",
    "#### ER Diagram\n",
    "![Chinook ER Diagram](https://camo.githubusercontent.com/a86112e5904456825a13f5fcbec439e16b376abe/687474703a2f2f6c68342e67677068742e636f6d2f5f6f4b6f367a4668644439382f53574650747966484a46492f4141414141414141414d632f4764726c7a65424e735a4d2f733830302f4368696e6f6f6b4461746162617365536368656d61312e312e706e67)\n",
    "\n",
    "## 2.1 SQLite in Python\n",
    "Using SQLite in Python is very easy. Simply import the `sqlite3` library and connect to the database:"
   ]
  },
  {
   "cell_type": "code",
   "execution_count": 260,
   "metadata": {},
   "outputs": [],
   "source": [
    "import sqlite3\n",
    "conn = sqlite3.connect(\"Chinook_Sqlite.sqlite\")"
   ]
  },
  {
   "cell_type": "markdown",
   "metadata": {},
   "source": [
    "*Note: Make sure the path to your database file (the `.sqlite` file) is correct. Otherwise, Python will make a new, empty `.sqlite` file.*\n",
    "\n",
    "Now you can use the `conn` variable to manipulate the database. In order to execute a query on the database connection, use:\n",
    "```python3\n",
    "conn.execute(someQueryString)\n",
    "```\n",
    "This will return a *cursor* object. Don't worry too much about this yet; you can collect the data from a cursor by converting it to a list: `list(someCursor)`.\n",
    "\n",
    "For more details, take a look at [the official documentation](https://docs.python.org/3.8/library/sqlite3.html)."
   ]
  },
  {
   "cell_type": "markdown",
   "metadata": {},
   "source": [
    "# 2. Querying\n",
    "## 2.1 SELECT\n",
    "The SELECT operation is used to fetch data from a database. It has the following syntax:\n",
    "```sql\n",
    "SELECT DISTINCT column_list\n",
    "FROM table_list\n",
    "  JOIN table ON join_condition\n",
    "WHERE row_filter\n",
    "ORDER BY column\n",
    "LIMIT count OFFSET offset\n",
    "GROUP BY column\n",
    "HAVING group_filter;\n",
    "```\n",
    "Most of these fields can be omitted. The minimal syntax is:\n",
    "```sql\n",
    "SELECT column_list FROM table_list\n",
    "```\n",
    "We will discuss the optional parameters later.\n",
    "\n",
    "### Basic Queries\n",
    "#### Contact Information\n",
    "Get a list of all employees and their phone numbers. **(8)**"
   ]
  },
  {
   "cell_type": "code",
   "execution_count": 270,
   "metadata": {},
   "outputs": [
    {
     "data": {
      "text/plain": [
       "[('Andrew', 'Adams', '+1 (780) 428-9482'),\n",
       " ('Nancy', 'Edwards', '+1 (403) 262-3443'),\n",
       " ('Jane', 'Peacock', '+1 (403) 262-3443'),\n",
       " ('Margaret', 'Park', '+1 (403) 263-4423'),\n",
       " ('Steve', 'Johnson', '1 (780) 836-9987'),\n",
       " ('Michael', 'Mitchell', '+1 (403) 246-9887'),\n",
       " ('Robert', 'King', '+1 (403) 456-9986'),\n",
       " ('Laura', 'Callahan', '+1 (403) 467-3351')]"
      ]
     },
     "execution_count": 270,
     "metadata": {},
     "output_type": "execute_result"
    }
   ],
   "source": [
    "# Write your code here, then press Run\n",
    "myQueryString = \"SELECT FirstName, LastName, Phone FROM Employee\"\n",
    "list(conn.execute(myQueryString))\n",
    "\n",
    "# is the same as:\n",
    "# cursor = conn.execute(myQueryString)\n",
    "# cursor.fetchall()"
   ]
  },
  {
   "cell_type": "markdown",
   "metadata": {},
   "source": [
    "#### Canadian Customers\n",
    "Get all data from Canadian customers. **(8)**\n",
    "\n",
    "*Hint: the* `WHERE` *clause can be used to add restrictions to the select statements*"
   ]
  },
  {
   "cell_type": "code",
   "execution_count": 279,
   "metadata": {},
   "outputs": [
    {
     "data": {
      "text/plain": [
       "[(3,\n",
       "  'François',\n",
       "  'Tremblay',\n",
       "  None,\n",
       "  '1498 rue Bélanger',\n",
       "  'Montréal',\n",
       "  'QC',\n",
       "  'Canada',\n",
       "  'H2G 1A7',\n",
       "  '+1 (514) 721-4711',\n",
       "  None,\n",
       "  'ftremblay@gmail.com',\n",
       "  3),\n",
       " (14,\n",
       "  'Mark',\n",
       "  'Philips',\n",
       "  'Telus',\n",
       "  '8210 111 ST NW',\n",
       "  'Edmonton',\n",
       "  'AB',\n",
       "  'Canada',\n",
       "  'T6G 2C7',\n",
       "  '+1 (780) 434-4554',\n",
       "  '+1 (780) 434-5565',\n",
       "  'mphilips12@shaw.ca',\n",
       "  5),\n",
       " (15,\n",
       "  'Jennifer',\n",
       "  'Peterson',\n",
       "  'Rogers Canada',\n",
       "  '700 W Pender Street',\n",
       "  'Vancouver',\n",
       "  'BC',\n",
       "  'Canada',\n",
       "  'V6C 1G8',\n",
       "  '+1 (604) 688-2255',\n",
       "  '+1 (604) 688-8756',\n",
       "  'jenniferp@rogers.ca',\n",
       "  3),\n",
       " (29,\n",
       "  'Robert',\n",
       "  'Brown',\n",
       "  None,\n",
       "  '796 Dundas Street West',\n",
       "  'Toronto',\n",
       "  'ON',\n",
       "  'Canada',\n",
       "  'M6J 1V1',\n",
       "  '+1 (416) 363-8888',\n",
       "  None,\n",
       "  'robbrown@shaw.ca',\n",
       "  3),\n",
       " (30,\n",
       "  'Edward',\n",
       "  'Francis',\n",
       "  None,\n",
       "  '230 Elgin Street',\n",
       "  'Ottawa',\n",
       "  'ON',\n",
       "  'Canada',\n",
       "  'K2P 1L7',\n",
       "  '+1 (613) 234-3322',\n",
       "  None,\n",
       "  'edfrancis@yachoo.ca',\n",
       "  3),\n",
       " (31,\n",
       "  'Martha',\n",
       "  'Silk',\n",
       "  None,\n",
       "  '194A Chain Lake Drive',\n",
       "  'Halifax',\n",
       "  'NS',\n",
       "  'Canada',\n",
       "  'B3S 1C5',\n",
       "  '+1 (902) 450-0450',\n",
       "  None,\n",
       "  'marthasilk@gmail.com',\n",
       "  5),\n",
       " (32,\n",
       "  'Aaron',\n",
       "  'Mitchell',\n",
       "  None,\n",
       "  '696 Osborne Street',\n",
       "  'Winnipeg',\n",
       "  'MB',\n",
       "  'Canada',\n",
       "  'R3L 2B9',\n",
       "  '+1 (204) 452-6452',\n",
       "  None,\n",
       "  'aaronmitchell@yahoo.ca',\n",
       "  4),\n",
       " (33,\n",
       "  'Ellie',\n",
       "  'Sullivan',\n",
       "  None,\n",
       "  '5112 48 Street',\n",
       "  'Yellowknife',\n",
       "  'NT',\n",
       "  'Canada',\n",
       "  'X1A 1N6',\n",
       "  '+1 (867) 920-2233',\n",
       "  None,\n",
       "  'ellie.sullivan@shaw.ca',\n",
       "  3)]"
      ]
     },
     "execution_count": 279,
     "metadata": {},
     "output_type": "execute_result"
    }
   ],
   "source": [
    "# Write your code here, then press Run\n",
    "myQueryString = \"SELECT * FROM Customer WHERE Country='Canada'\"\n",
    "list(conn.execute(myQueryString))"
   ]
  },
  {
   "cell_type": "markdown",
   "metadata": {},
   "source": [
    "#### Bang for your buck\n",
    "Get a list of all tracks longer than 10 minutes that cost less than €1. **(49)**"
   ]
  },
  {
   "cell_type": "code",
   "execution_count": 287,
   "metadata": {},
   "outputs": [
    {
     "data": {
      "text/plain": [
       "[('Sleeping Village',),\n",
       " ('You Shook Me(2)',),\n",
       " ('How Many More Times',),\n",
       " ('Advance Romance',),\n",
       " ('Mercyful Fate',),\n",
       " ('Mistreated',),\n",
       " ('Smoke On The Water',),\n",
       " ('You Fool No One',),\n",
       " ('In My Time Of Dying',),\n",
       " ('The Calling',),\n",
       " (\"Walkin'\",),\n",
       " ('My Funny Valentine (Live)',),\n",
       " ('Miles Runs The Voodoo Down',),\n",
       " (\"Space Truckin'\",),\n",
       " ('Going Down / Highway Star',),\n",
       " ('Mistreated (Alternate Version)',),\n",
       " ('You Fool No One (Alternate Version)',),\n",
       " ('I Heard It Through The Grapevine',),\n",
       " ('Child In Time',),\n",
       " ('Child In Time (Son Of Aleric - Instrumental)',),\n",
       " ('Outbreak',),\n",
       " ('Coma',),\n",
       " ('Rime Of The Ancient Mariner',),\n",
       " ('Rime of the Ancient Mariner',),\n",
       " ('Sign Of The Cross',),\n",
       " ('Sign Of The Cross',),\n",
       " ('Revolution 1993',),\n",
       " ('Dazed And Confused',),\n",
       " ('Whole Lotta Love (Medley)',),\n",
       " ('Carouselambra',),\n",
       " ('Achilles Last Stand',),\n",
       " ('Dazed And Confused',),\n",
       " ('No Quarter',),\n",
       " ('Stairway To Heaven',),\n",
       " ('Moby Dick',),\n",
       " ('Whole Lotta Love',),\n",
       " ('Xanadu',),\n",
       " ('El Corazon Manda',),\n",
       " ('La Puesta Del Sol',),\n",
       " ('Fried Neckbones And Home Fries',),\n",
       " ('Santana Jam',),\n",
       " (\"We've Got To Get Together/Jingo\",),\n",
       " (\"Just Ain't Good Enough\",),\n",
       " ('Funky Piano',),\n",
       " ('The Way You Do To Mer',),\n",
       " ('The Sun Road',),\n",
       " ('The End',),\n",
       " ('Reach Down',),\n",
       " ('Amy Amy Amy (Outro)',)]"
      ]
     },
     "execution_count": 287,
     "metadata": {},
     "output_type": "execute_result"
    }
   ],
   "source": [
    "# Write your code here, then press Run\n",
    "myQueryString = \"SELECT Name FROM Track WHERE Milliseconds>600000 AND UnitPrice<1\"\n",
    "list(conn.execute(myQueryString))"
   ]
  },
  {
   "cell_type": "markdown",
   "metadata": {},
   "source": [
    "### 2.2 Optional Parameters\n",
    "As mentioned before, there are certain additional parameters that can be used in a `SELECT` statement:\n",
    "- `SELECT DISTINCT` removes all duplicate rows from the result\n",
    "- `ORDER BY` allows you to sort the result on a certain column\n",
    "- `LIMIT aNumber` only returns the first `aNumber` results\n",
    "- `GROUP BY` allows you to group results based on an aggregation function. examples are `MAX`, `MIN`, `COUNT` or `SUM`.\n",
    "- `HAVING` can be used to filter on aggregated values from a GROUP BY operation\n",
    "\n",
    "#### Number of Orders\n",
    "Count how many times each CustomerID has placed an order. **(59)**"
   ]
  },
  {
   "cell_type": "code",
   "execution_count": 294,
   "metadata": {},
   "outputs": [
    {
     "data": {
      "text/plain": [
       "[(1, 7),\n",
       " (2, 7),\n",
       " (3, 7),\n",
       " (4, 7),\n",
       " (5, 7),\n",
       " (6, 7),\n",
       " (7, 7),\n",
       " (8, 7),\n",
       " (9, 7),\n",
       " (10, 7),\n",
       " (11, 7),\n",
       " (12, 7),\n",
       " (13, 7),\n",
       " (14, 7),\n",
       " (15, 7),\n",
       " (16, 7),\n",
       " (17, 7),\n",
       " (18, 7),\n",
       " (19, 7),\n",
       " (20, 7),\n",
       " (21, 7),\n",
       " (22, 7),\n",
       " (23, 7),\n",
       " (24, 7),\n",
       " (25, 7),\n",
       " (26, 7),\n",
       " (27, 7),\n",
       " (28, 7),\n",
       " (29, 7),\n",
       " (30, 7),\n",
       " (31, 7),\n",
       " (32, 7),\n",
       " (33, 7),\n",
       " (34, 7),\n",
       " (35, 7),\n",
       " (36, 7),\n",
       " (37, 7),\n",
       " (38, 7),\n",
       " (39, 7),\n",
       " (40, 7),\n",
       " (41, 7),\n",
       " (42, 7),\n",
       " (43, 7),\n",
       " (44, 7),\n",
       " (45, 7),\n",
       " (46, 7),\n",
       " (47, 7),\n",
       " (48, 7),\n",
       " (49, 7),\n",
       " (50, 7),\n",
       " (51, 7),\n",
       " (52, 7),\n",
       " (53, 7),\n",
       " (54, 7),\n",
       " (55, 7),\n",
       " (56, 7),\n",
       " (57, 7),\n",
       " (58, 7),\n",
       " (59, 6)]"
      ]
     },
     "execution_count": 294,
     "metadata": {},
     "output_type": "execute_result"
    }
   ],
   "source": [
    "# Write your code here, then press Run\n",
    "myQueryString = \"SELECT CustomerId, COUNT(*) AS order_amount FROM Invoice GROUP BY CustomerId\"\n",
    "list(conn.execute(myQueryString))\n",
    "\n",
    "# i printed it in table format for a better overview:\n",
    "# import pandas as pd\n",
    "# df = pd.DataFrame(list(conn.execute(myQueryString)), columns=[\"CustomerId\", \"order_amount\"])\n",
    "# print(df)"
   ]
  },
  {
   "cell_type": "markdown",
   "metadata": {},
   "source": [
    "#### Billing Countries\n",
    "Get a list of all countries in the *invoice* table. **(24)**"
   ]
  },
  {
   "cell_type": "code",
   "execution_count": 300,
   "metadata": {},
   "outputs": [
    {
     "data": {
      "text/plain": [
       "[('Germany',),\n",
       " ('Norway',),\n",
       " ('Belgium',),\n",
       " ('Canada',),\n",
       " ('USA',),\n",
       " ('France',),\n",
       " ('Ireland',),\n",
       " ('United Kingdom',),\n",
       " ('Australia',),\n",
       " ('Chile',),\n",
       " ('India',),\n",
       " ('Brazil',),\n",
       " ('Portugal',),\n",
       " ('Netherlands',),\n",
       " ('Spain',),\n",
       " ('Sweden',),\n",
       " ('Czech Republic',),\n",
       " ('Finland',),\n",
       " ('Denmark',),\n",
       " ('Italy',),\n",
       " ('Poland',),\n",
       " ('Austria',),\n",
       " ('Hungary',),\n",
       " ('Argentina',)]"
      ]
     },
     "execution_count": 300,
     "metadata": {},
     "output_type": "execute_result"
    }
   ],
   "source": [
    "# Write your code here, then press Run\n",
    "myQueryString = \"SELECT DISTINCT BillingCountry FROM Invoice\"\n",
    "list(conn.execute(myQueryString))"
   ]
  },
  {
   "cell_type": "markdown",
   "metadata": {},
   "source": [
    "#### Big Buyers\n",
    "Get a list of customerID's who have purchased for more than €45. **(5)**\n",
    "\n",
    "*Hint: use SUM, GROUP BY and HAVING*"
   ]
  },
  {
   "cell_type": "code",
   "execution_count": 325,
   "metadata": {},
   "outputs": [
    {
     "name": "stdout",
     "output_type": "stream",
     "text": [
      "   CustomerId  total_purchase\n",
      "0           6           49.62\n",
      "1          26           47.62\n",
      "2          45           45.62\n",
      "3          46           45.62\n",
      "4          57           46.62\n",
      "\n",
      "Amount of Big Buyers: 5\n"
     ]
    }
   ],
   "source": [
    "# Write your code here, then press Run\n",
    "myQueryString = \"SELECT CustomerId, SUM(Total) AS total_purchase FROM Invoice GROUP BY CustomerId HAVING SUM(Total) > 45\"\n",
    "# list(conn.execute(myQueryString))\n",
    "\n",
    "\"\"\"\n",
    "SELECT CustomerId, SUM(Total) AS total_purchase \n",
    "FROM Invoice \n",
    "GROUP BY CustomerId \n",
    "HAVING SUM(Total) > 45\n",
    "\"\"\"\n",
    "\n",
    "# i printed it in table format for a better overview:\n",
    "import pandas as pd\n",
    "df = pd.DataFrame(list(conn.execute(myQueryString)), columns=[\"CustomerId\", \"total_purchase\"])\n",
    "print(df)\n",
    "print(f\"\\nAmount of Big Buyers: {len(df)}\")"
   ]
  },
  {
   "cell_type": "markdown",
   "metadata": {},
   "source": [
    "### 2.3 Joins\n",
    "For the previous exercises, it sufficed to just query a single table. However, for more advanced applications, multiple tables will need to be queried. For this, the `JOIN` operation exists.\n",
    "The `JOIN` operation takes two tables and returns all combinations that match a certain expression.\n",
    "\n",
    "You can also specify what kind of `JOIN` you want to use.\n",
    "- The `INNER JOIN` takes the intersection of two tables\n",
    "- The `LEFT JOIN` takes **all** rows of the left table and the matching rows of the right table\n",
    "- The `CROSS JOIN`takes **all** rows of the left table and matches each row with **each row** of the right table. The cross join has very poor performance, so avoid using this one.\n",
    "\n",
    "To specify what common variable should be used for the `INNER JOIN` or `LEFT JOIN`, use `ON table1.var1 = table2.var2`. If the variable names are the same in both tables, you can simply use `USING var`.\n",
    "\n",
    "#### Album Artists\n",
    "Get all albums and the names of their artists. **(347)**"
   ]
  },
  {
   "cell_type": "code",
   "execution_count": 326,
   "metadata": {},
   "outputs": [
    {
     "name": "stdout",
     "output_type": "stream",
     "text": [
      "     AlbumId  ArtistId                                               Name\n",
      "0          1         1                                              AC/DC\n",
      "1          4         1                                              AC/DC\n",
      "2          2         2                                             Accept\n",
      "3          3         2                                             Accept\n",
      "4          5         3                                          Aerosmith\n",
      "..       ...       ...                                                ...\n",
      "342      342       271   Mela Tenenbaum, Pro Musica Prague & Richard Kapp\n",
      "343      344       272                             Emerson String Quartet\n",
      "344      345       273  C. Monteverdi, Nigel Rogers - Chiaroscuro; Lon...\n",
      "345      346       274                                      Nash Ensemble\n",
      "346      347       275                              Philip Glass Ensemble\n",
      "\n",
      "[347 rows x 3 columns]\n"
     ]
    }
   ],
   "source": [
    "# Write your code here, then press Run\n",
    "myQueryString = \"SELECT Album.AlbumId, Artist.ArtistId, Artist.Name FROM Album INNER JOIN Artist ON Album.ArtistId = Artist.ArtistId\"\n",
    "# list(conn.execute(myQueryString))\n",
    "\n",
    "\"\"\"\n",
    "SELECT Album.AlbumId, Artist.ArtistId, Artist.Name \n",
    "FROM Album \n",
    "INNER JOIN Artist \n",
    "ON Album.ArtistId = Artist.ArtistId\n",
    "\"\"\"\n",
    "\n",
    "# i printed it in table format for a better overview:\n",
    "import pandas as pd\n",
    "df = pd.DataFrame(list(conn.execute(myQueryString)), columns=[\"AlbumId\", \"ArtistId\", \"Name\"])\n",
    "print(df)"
   ]
  },
  {
   "cell_type": "markdown",
   "metadata": {},
   "source": [
    "#### Special Promotion\n",
    "The company wants to offer a special promotion to each customer that had an order of more than €15. Get a list of names of each customer who is eligible. **(11)**\n",
    "\n",
    "*Hint: this query will need DISTINCT, a JOIN and a WHERE clause*"
   ]
  },
  {
   "cell_type": "code",
   "execution_count": 327,
   "metadata": {},
   "outputs": [
    {
     "data": {
      "text/plain": [
       "'\\nSELECT DISTINCT Customer.FirstName, Customer.LastName \\nFROM Customer \\nJOIN Invoice \\nON Customer.CustomerId = Invoice.CustomerId \\nWHERE Invoice.Total > 15\\n'"
      ]
     },
     "execution_count": 327,
     "metadata": {},
     "output_type": "execute_result"
    }
   ],
   "source": [
    "# Write your code here, then press Run\n",
    "myQueryString = \"SELECT DISTINCT Customer.FirstName, Customer.LastName FROM Customer JOIN Invoice ON Customer.CustomerId = Invoice.CustomerId WHERE Invoice.Total > 15\"\n",
    "list(conn.execute(myQueryString))\n",
    "\n",
    "\"\"\"\n",
    "SELECT DISTINCT Customer.FirstName, Customer.LastName \n",
    "FROM Customer \n",
    "JOIN Invoice \n",
    "ON Customer.CustomerId = Invoice.CustomerId \n",
    "WHERE Invoice.Total > 15\n",
    "\"\"\""
   ]
  },
  {
   "cell_type": "markdown",
   "metadata": {},
   "source": [
    "#### Run to the Hills\n",
    "Count the number of times a song of Iron Maiden was bought. **(140)**\n",
    "\n",
    "*Hint: you will need to use multiple `INNER JOIN`s. You will need to use `ON`, not `USING`.*"
   ]
  },
  {
   "cell_type": "code",
   "execution_count": 336,
   "metadata": {},
   "outputs": [
    {
     "name": "stdout",
     "output_type": "stream",
     "text": [
      "Number of times a song of Iron Maiden was bought: 140\n"
     ]
    }
   ],
   "source": [
    "# Write your code here, then press Run\n",
    "myQueryString = \"SELECT COUNT(*) AS times_bought FROM Track JOIN Album ON Track.AlbumId = Album.AlbumId JOIN Artist ON Album.ArtistId = Artist.ArtistId JOIN InvoiceLine ON Track.TrackId = InvoiceLine.TrackId JOIN Invoice ON InvoiceLine.InvoiceId = Invoice.InvoiceId WHERE Artist.Name = 'Iron Maiden'\"\n",
    "# list(conn.execute(myQueryString))\n",
    "\n",
    "\"\"\"\n",
    "SELECT COUNT(*) AS times_bought FROM Track\n",
    "JOIN Album ON Track.AlbumId = Album.AlbumId\n",
    "JOIN Artist ON Album.ArtistId = Artist.ArtistId\n",
    "JOIN InvoiceLine ON Track.TrackId = InvoiceLine.TrackId\n",
    "JOIN Invoice ON InvoiceLine.InvoiceId = Invoice.InvoiceId\n",
    "WHERE Artist.Name = 'Iron Maiden'\n",
    "\"\"\"\n",
    "\n",
    "print(f\"Number of times a song of Iron Maiden was bought: {list(conn.execute(myQueryString))[0][0]}\")"
   ]
  }
 ],
 "metadata": {
  "kernelspec": {
   "display_name": "Python 3",
   "language": "python",
   "name": "python3"
  },
  "language_info": {
   "codemirror_mode": {
    "name": "ipython",
    "version": 3
   },
   "file_extension": ".py",
   "mimetype": "text/x-python",
   "name": "python",
   "nbconvert_exporter": "python",
   "pygments_lexer": "ipython3",
   "version": "3.10.14"
  }
 },
 "nbformat": 4,
 "nbformat_minor": 4
}
